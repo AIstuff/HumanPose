{
 "cells": [
  {
   "cell_type": "code",
   "execution_count": null,
   "metadata": {},
   "outputs": [],
   "source": [
    "import boto3\n",
    "from botocore.client import UNSIGNED\n",
    "from botocore.client import Config\n",
    "import multiprocessing\n",
    "import subprocess"
   ]
  },
  {
   "cell_type": "code",
   "execution_count": null,
   "metadata": {},
   "outputs": [],
   "source": [
    "files = ['train2017.zip']"
   ]
  },
  {
   "cell_type": "code",
   "execution_count": null,
   "metadata": {},
   "outputs": [],
   "source": [
    "s3 = boto3.client('s3', config=Config(signature_version=UNSIGNED))"
   ]
  },
  {
   "cell_type": "code",
   "execution_count": null,
   "metadata": {},
   "outputs": [],
   "source": [
    "def download_unzip_from_s3(file_name, bucket_name='fast-ai-coco'):\n",
    "    print(\"Downloading\", file_name)\n",
    "    s3.download_file(bucket_name, file_name, file_name)\n",
    "    print(\"Finished downloading\", file_name)\n",
    "    subprocess.run(\"unzip\", file_name)\n",
    "    print(\"Finished unzipping\", file_name)"
   ]
  },
  {
   "cell_type": "code",
   "execution_count": null,
   "metadata": {},
   "outputs": [],
   "source": [
    "# Download in parallel\n",
    "num_cpus = multiprocessing.cpu_count()\n",
    "print(\"using\", num_cpus, \"cpus\")\n",
    "\n",
    "with multiprocessing.Pool(num_cpus) as p:\n",
    "    p.map(download_unzip_from_s3, files)\n",
    "    \n",
    "print(\"Done transferring all datasets\")"
   ]
  },
  {
   "cell_type": "code",
   "execution_count": null,
   "metadata": {},
   "outputs": [],
   "source": []
  }
 ],
 "metadata": {
  "kernelspec": {
   "display_name": "tf2-pytorch",
   "language": "python",
   "name": "tf2-pytorch"
  },
  "language_info": {
   "codemirror_mode": {
    "name": "ipython",
    "version": 3
   },
   "file_extension": ".py",
   "mimetype": "text/x-python",
   "name": "python",
   "nbconvert_exporter": "python",
   "pygments_lexer": "ipython3",
   "version": "3.7.7"
  }
 },
 "nbformat": 4,
 "nbformat_minor": 4
}
